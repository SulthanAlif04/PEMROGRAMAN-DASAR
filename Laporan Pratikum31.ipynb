{
  "nbformat": 4,
  "nbformat_minor": 0,
  "metadata": {
    "colab": {
      "provenance": [],
      "authorship_tag": "ABX9TyMi+BhpO22VRRr0rfXSCd01",
      "include_colab_link": true
    },
    "kernelspec": {
      "name": "python3",
      "display_name": "Python 3"
    },
    "language_info": {
      "name": "python"
    }
  },
  "cells": [
    {
      "cell_type": "markdown",
      "metadata": {
        "id": "view-in-github",
        "colab_type": "text"
      },
      "source": [
        "<a href=\"https://colab.research.google.com/github/SulthanAlif04/PEMROGRAMAN-DASAR/blob/main/Laporan%20Pratikum31.ipynb\" target=\"_parent\"><img src=\"https://colab.research.google.com/assets/colab-badge.svg\" alt=\"Open In Colab\"/></a>"
      ]
    },
    {
      "cell_type": "code",
      "execution_count": 3,
      "metadata": {
        "colab": {
          "base_uri": "https://localhost:8080/"
        },
        "id": "sJJbqnyouYHi",
        "outputId": "93a3439d-7c70-4451-fa05-64f1e176c8cb"
      },
      "outputs": [
        {
          "output_type": "stream",
          "name": "stdout",
          "text": [
            "=== PROGRAM KASIR KEDAI KOPI ===\n",
            "\n",
            "Detail Pembelian:\n",
            "- Kopi: 50 x Rp 25,000 = Rp 1,250,000\n",
            "- Roti: 30 x Rp 15,000 = Rp 450,000\n",
            "- Pasta: 20 x Rp 35,000 = Rp 700,000\n",
            "Subtotal: Rp 2,400,000\n",
            "\n",
            "Status Member: Ya\n",
            "Berhak diskon: Ya\n",
            "Diskon: 15% = Rp 360,000.0\n",
            "Harga setelah diskon: Rp 2,040,000.0\n",
            "PPN (11%): Rp 224,400.0\n",
            "\n",
            "=== RINCIAN PEMBAYARAN ===\n",
            "Subtotal: Rp 2,400,000\n",
            "Diskon: Rp 360,000.0\n",
            "Harga setelah diskon: Rp 2,040,000.0\n",
            "PPN: Rp 224,400.0\n",
            "TOTAL AKHIR: Rp 2,264,400.0\n",
            "\n",
            "Terima kasih telah berbelanja di Kedai Kopi kami!\n"
          ]
        }
      ],
      "source": [
        " # Program Kasir Sederhana untuk Kedai Kopi\n",
        "# Menghitung total belanja dengan diskon dan PPN\n",
        "\n",
        "# Data Input (Variabel)\n",
        "harga_kopi = 25000\n",
        "harga_roti = 15000\n",
        "harga_pasta = 35000\n",
        "jumlah_kopi = 50\n",
        "jumlah_roti = 30\n",
        "jumlah_pasta = 20\n",
        "is_member = True  # True jika pelanggan adalah member, False jika bukan\n",
        "\n",
        "print(\"=== PROGRAM KASIR KEDAI KOPI ===\\n\")\n",
        "\n",
        "# 1. Hitung Subtotal\n",
        "subtotal = (harga_kopi * jumlah_kopi) + (harga_roti * jumlah_roti) + (harga_pasta * jumlah_pasta)\n",
        "\n",
        "print(f\"Detail Pembelian:\")\n",
        "print(f\"- Kopi: {jumlah_kopi} x Rp {harga_kopi:,} = Rp {harga_kopi * jumlah_kopi:,}\")\n",
        "print(f\"- Roti: {jumlah_roti} x Rp {harga_roti:,} = Rp {harga_roti * jumlah_roti:,}\")\n",
        "print(f\"- Pasta: {jumlah_pasta} x Rp {harga_pasta:,} = Rp {harga_pasta * jumlah_pasta:,}\")\n",
        "print(f\"Subtotal: Rp {subtotal:,}\")\n",
        "\n",
        "# 2. Evaluasi Syarat Diskon\n",
        "diskon_eligible = is_member and (subtotal > 100000)\n",
        "\n",
        "print(f\"\\nStatus Member: {'Ya' if is_member else 'Tidak'}\")\n",
        "print(f\"Berhak diskon: {'Ya' if diskon_eligible else 'Tidak'}\")\n",
        "\n",
        "# 3. Hitung Jumlah Diskon\n",
        "if diskon_eligible:\n",
        "    diskon_persen = 15\n",
        "    jumlah_diskon = subtotal * (diskon_persen / 100)\n",
        "else:\n",
        "    diskon_persen = 0\n",
        "    jumlah_diskon = 0\n",
        "\n",
        "print(f\"Diskon: {diskon_persen}% = Rp {jumlah_diskon:,}\")\n",
        "\n",
        "# 4. Hitung Harga Setelah Diskon\n",
        "harga_setelah_diskon = subtotal - jumlah_diskon\n",
        "print(f\"Harga setelah diskon: Rp {harga_setelah_diskon:,}\")\n",
        "\n",
        "# 5. Hitung PPN\n",
        "ppn_persen = 11\n",
        "jumlah_ppn = harga_setelah_diskon * (ppn_persen / 100)\n",
        "print(f\"PPN ({ppn_persen}%): Rp {jumlah_ppn:,}\")\n",
        "\n",
        "# 6. Hitung Total Akhir\n",
        "total_akhir = harga_setelah_diskon + jumlah_ppn\n",
        "\n",
        "print(f\"\\n=== RINCIAN PEMBAYARAN ===\")\n",
        "print(f\"Subtotal: Rp {subtotal:,}\")\n",
        "print(f\"Diskon: Rp {jumlah_diskon:,}\")\n",
        "print(f\"Harga setelah diskon: Rp {harga_setelah_diskon:,}\")\n",
        "print(f\"PPN: Rp {jumlah_ppn:,}\")\n",
        "print(f\"TOTAL AKHIR: Rp {total_akhir:,}\")\n",
        "\n",
        "print(f\"\\nTerima kasih telah berbelanja di Kedai Kopi kami!\")"
      ]
    }
  ]
}