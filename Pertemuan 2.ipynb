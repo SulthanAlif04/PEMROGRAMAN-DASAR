{
  "nbformat": 4,
  "nbformat_minor": 0,
  "metadata": {
    "colab": {
      "provenance": [],
      "authorship_tag": "ABX9TyOPYBVvYlpN1ERQ262VCGak",
      "include_colab_link": true
    },
    "kernelspec": {
      "name": "python3",
      "display_name": "Python 3"
    },
    "language_info": {
      "name": "python"
    }
  },
  "cells": [
    {
      "cell_type": "markdown",
      "metadata": {
        "id": "view-in-github",
        "colab_type": "text"
      },
      "source": [
        "<a href=\"https://colab.research.google.com/github/SulthanAlif04/PEMROGRAMAN-DASAR/blob/main/Pertemuan%202.ipynb\" target=\"_parent\"><img src=\"https://colab.research.google.com/assets/colab-badge.svg\" alt=\"Open In Colab\"/></a>"
      ]
    },
    {
      "cell_type": "code",
      "execution_count": 17,
      "metadata": {
        "colab": {
          "base_uri": "https://localhost:8080/"
        },
        "outputId": "e18110ff-ac45-4e2a-8b74-332227c4705b",
        "id": "rYNwBVggdof3"
      },
      "outputs": [
        {
          "output_type": "stream",
          "name": "stdout",
          "text": [
            "23\n",
            "43\n",
            "15\n",
            "34\n"
          ]
        }
      ],
      "source": [
        "# deklarasi variabel list\n",
        "numbers = [23, 43, 15, 34]\n",
        "# cara mengakses elemen dalam variabel list\n",
        "numbers[0]  # 23\n",
        "numbers[1]  # 43\n",
        "numbers[2]  # 15\n",
        "numbers[3]  # 34\n",
        "# cara mengubah nilai elemen dalam variabel list\n",
        "numbers[2]  # 51\n",
        "numbers[2]  # 51\n",
        "\n",
        "print (numbers[0])\n",
        "print (numbers[1])\n",
        "print (numbers[2])\n",
        "print (numbers[3])\n",
        "\n"
      ]
    },
    {
      "cell_type": "code",
      "execution_count": 16,
      "metadata": {
        "id": "ir9TsG7xVR9I"
      },
      "outputs": [],
      "source": [
        "\n"
      ]
    }
  ]
}