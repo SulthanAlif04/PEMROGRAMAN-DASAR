{
  "nbformat": 4,
  "nbformat_minor": 0,
  "metadata": {
    "colab": {
      "provenance": [],
      "authorship_tag": "ABX9TyMQe8cL1kgqGaASX2dsVH0E",
      "include_colab_link": true
    },
    "kernelspec": {
      "name": "python3",
      "display_name": "Python 3"
    },
    "language_info": {
      "name": "python"
    }
  },
  "cells": [
    {
      "cell_type": "markdown",
      "metadata": {
        "id": "view-in-github",
        "colab_type": "text"
      },
      "source": [
        "<a href=\"https://colab.research.google.com/github/SulthanAlif04/PEMROGRAMAN-DASAR/blob/main/Pertemuan%201%20.ipynb\" target=\"_parent\"><img src=\"https://colab.research.google.com/assets/colab-badge.svg\" alt=\"Open In Colab\"/></a>"
      ]
    },
    {
      "cell_type": "code",
      "execution_count": 6,
      "metadata": {
        "colab": {
          "base_uri": "https://localhost:8080/"
        },
        "id": "aOQbNAKhW-SK",
        "outputId": "7f1b52e9-7090-4258-a45d-845b4c56b3b5"
      },
      "outputs": [
        {
          "output_type": "stream",
          "name": "stdout",
          "text": [
            "Sulthan\n",
            "20\n",
            "RPE\n",
            "3\n",
            "Pemegraman Dasar\n",
            "False\n"
          ]
        }
      ],
      "source": [
        "# Biodata Saya\n",
        "\n",
        "nama = \"Sulthan\"\n",
        "umur = 20\n",
        "Jurusan = \"RPE\"\n",
        "semester = 3\n",
        "matakuliah ='Pemegraman Dasar'\n",
        "status_lulus = False\n",
        "\n",
        "\n",
        "print(nama)\n",
        "print(umur)\n",
        "print(Jurusan)\n",
        "print(semester)\n",
        "print(matakuliah)\n",
        "print(False)"
      ]
    }
  ]
}