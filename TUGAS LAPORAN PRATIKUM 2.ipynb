{
  "nbformat": 4,
  "nbformat_minor": 0,
  "metadata": {
    "colab": {
      "provenance": [],
      "toc_visible": true,
      "authorship_tag": "ABX9TyM8pdbhQr68A8H1BXV3OO7X",
      "include_colab_link": true
    },
    "kernelspec": {
      "name": "python3",
      "display_name": "Python 3"
    },
    "language_info": {
      "name": "python"
    }
  },
  "cells": [
    {
      "cell_type": "markdown",
      "metadata": {
        "id": "view-in-github",
        "colab_type": "text"
      },
      "source": [
        "<a href=\"https://colab.research.google.com/github/SulthanAlif04/PEMROGRAMAN-DASAR/blob/main/TUGAS%20LAPORAN%20PRATIKUM%202.ipynb\" target=\"_parent\"><img src=\"https://colab.research.google.com/assets/colab-badge.svg\" alt=\"Open In Colab\"/></a>"
      ]
    },
    {
      "cell_type": "code",
      "source": [
        "katalog_A = {\"Laptop\", \"Mouse\", \"Keyboard\", \"Monitor\"}\n",
        "katalog_B = {\"Printer\", \"Keyboard\", \"Headset\", \"Monitor\"}\n",
        "produk_diskon = {\"Mouse\", \"Headset\", \"Printer\"}\n",
        "\n",
        "katalog_lengkap = katalog_A.union(katalog_B)\n",
        "\n",
        "produk_promo_aktif = katalog_lengkap.intersection(produk_diskon)\n",
        "\n",
        "print(\"Katalog A:\", katalog_A)\n",
        "print(\"Katalog B:\", katalog_B)\n",
        "print(\"Katalog Lengkap:\", katalog_lengkap)\n",
        "print(\"Produk Diskon:\", produk_diskon)\n",
        "print(\"Produk Promo Aktif:\", produk_promo_aktif)"
      ],
      "metadata": {
        "colab": {
          "base_uri": "https://localhost:8080/"
        },
        "id": "KgYJf66v4oEY",
        "outputId": "7197d191-e5f7-4548-c427-f9ec1b9aa8a9"
      },
      "execution_count": 37,
      "outputs": [
        {
          "output_type": "stream",
          "name": "stdout",
          "text": [
            "Katalog A: {'Monitor', 'Mouse', 'Keyboard', 'Laptop'}\n",
            "Katalog B: {'Monitor', 'Printer', 'Keyboard', 'Headset'}\n",
            "Katalog Lengkap: {'Printer', 'Laptop', 'Keyboard', 'Headset', 'Monitor', 'Mouse'}\n",
            "Produk Diskon: {'Mouse', 'Printer', 'Headset'}\n",
            "Produk Promo Aktif: {'Mouse', 'Printer', 'Headset'}\n"
          ]
        }
      ]
    },
    {
      "cell_type": "code",
      "source": [
        "startTime = {\n",
        "\"HH\": 8,\n",
        "\"mm\": 28,\n",
        "\"ss\": 58\n",
        "}\n",
        "\n",
        "endTime = {\n",
        "\"HH\": 17,\n",
        "\"mm\": 37,\n",
        "\"ss\": 67\n",
        "}\n",
        "\n",
        "print(\"Waktu Datang (Start Time):\", startTime)\n",
        "print(\"Waktu Pulang (endTIme):\", endTime)"
      ],
      "metadata": {
        "colab": {
          "base_uri": "https://localhost:8080/"
        },
        "id": "jTMGnhKU38Ua",
        "outputId": "71fb6358-9f82-460e-9e78-4ea3fbc685a6"
      },
      "execution_count": 32,
      "outputs": [
        {
          "output_type": "stream",
          "name": "stdout",
          "text": [
            "Waktu Datang (Start Time): {'HH': 8, 'mm': 28, 'ss': 58}\n",
            "Waktu Pulang (endTIme): {'HH': 17, 'mm': 37, 'ss': 67}\n"
          ]
        }
      ]
    },
    {
      "cell_type": "code",
      "source": [
        "Inspeksi = [\n",
        "\"pemahaman terhadap rencana dan desain\",\n",
        "\"ketersediaan bahan dan peralatan\",\n",
        "\"pengawasan pekerjaan\",\n",
        "\"kualitas kontruksi\",\n",
        "\"keselamatan kerja\",\n",
        "\"koordinasi dengan pemilik proyek\"\n",
        "]\n",
        "\n",
        "print(\"Daftar Inspeksi:\")\n",
        "for item in Inspeksi:\n",
        "    print(\" - \", item)\n"
      ],
      "metadata": {
        "colab": {
          "base_uri": "https://localhost:8080/"
        },
        "id": "koyom--b2iqe",
        "outputId": "9fcbdba6-e245-470f-b456-804b770ef40c"
      },
      "execution_count": 29,
      "outputs": [
        {
          "output_type": "stream",
          "name": "stdout",
          "text": [
            "Daftar Inspeksi:\n",
            " -  pemahaman terhadap rencana dan desain\n",
            " -  ketersediaan bahan dan peralatan\n",
            " -  pengawasan pekerjaan\n",
            " -  kualitas kontruksi\n",
            " -  keselamatan kerja\n",
            " -  koordinasi dengan pemilik proyek\n"
          ]
        }
      ]
    },
    {
      "cell_type": "code",
      "source": [
        "data_diri = {\n",
        "\"FirstName\":\"Sulthan\",\n",
        "\"LastName\":\"Alif\",\n",
        "\"Agee\":20,\n",
        "\"isMarries\":False\n",
        "}\n",
        "\n",
        "print(\"Personal Data:\")\n",
        "print(\"Firs Name:\", data_diri[\"FirstName\"])\n",
        "print(\"Last Name:\", data_diri[\"LastName\"])\n",
        "print(\"Age:\", data_diri[\"Agee\"])\n",
        "print(\"Marrie:\", data_diri[\"isMarries\"])"
      ],
      "metadata": {
        "colab": {
          "base_uri": "https://localhost:8080/"
        },
        "id": "quZJJDN4wQWY",
        "outputId": "efe770d5-528e-4f43-8d90-aa52399fbed4"
      },
      "execution_count": 27,
      "outputs": [
        {
          "output_type": "stream",
          "name": "stdout",
          "text": [
            "Personal Data:\n",
            "Firs Name: Sulthan\n",
            "Last Name: Alif\n",
            "Age: 20\n",
            "Marrie: False\n"
          ]
        }
      ]
    },
    {
      "cell_type": "code",
      "execution_count": 9,
      "metadata": {
        "colab": {
          "base_uri": "https://localhost:8080/"
        },
        "id": "3ontBOAxsvl7",
        "outputId": "30339fb0-fc0b-4004-dfab-e4d5eef0e57d"
      },
      "outputs": [
        {
          "output_type": "stream",
          "name": "stdout",
          "text": [
            "firstName: Sulthan\n",
            "lastName: Alif\n",
            "Age: 20\n",
            "Marries: False\n"
          ]
        }
      ],
      "source": [
        "firstName = \"Sulthan\"\n",
        "lastName  = \"Alif\"\n",
        "Age       = 20\n",
        "isMarried = \"False\"\n",
        "\n",
        "\n",
        "print(\"firstName:\",firstName)\n",
        "print(\"lastName:\",lastName)\n",
        "print(\"Age:\",Age)\n",
        "print(\"Marries:\",isMarried)"
      ]
    }
  ]
}